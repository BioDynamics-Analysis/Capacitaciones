{
 "cells": [
  {
   "cell_type": "code",
   "execution_count": 2,
   "id": "monthly-application",
   "metadata": {},
   "outputs": [],
   "source": [
    "import pandas as pd\n",
    "import numpy as np"
   ]
  },
  {
   "cell_type": "code",
   "execution_count": 3,
   "id": "provincial-friendly",
   "metadata": {},
   "outputs": [],
   "source": [
    "def get_saturacion_DO(temperature, salinidad):\n",
    "    x, y = temperature, salinidad\n",
    "    var = np.array([x, y, x*y, x*y**2, x**2, y**2, y*x**2, x**4])\n",
    "    coef = np.array([-3.6990e-01, -9.4454e-02,  2.5591e-03, -3.4891e-06, 4.9856e-03,  2.1292e-04, -2.5916e-05, -5.2018e-07])\n",
    "    bias = 14.5176\n",
    "    saturacion = (var*coef).sum() + bias\n",
    "    return saturacion"
   ]
  },
  {
   "cell_type": "code",
   "execution_count": null,
   "id": "prime-atlanta",
   "metadata": {},
   "outputs": [],
   "source": []
  }
 ],
 "metadata": {
  "kernelspec": {
   "display_name": "Python 3",
   "language": "python",
   "name": "python3"
  },
  "language_info": {
   "codemirror_mode": {
    "name": "ipython",
    "version": 3
   },
   "file_extension": ".py",
   "mimetype": "text/x-python",
   "name": "python",
   "nbconvert_exporter": "python",
   "pygments_lexer": "ipython3",
   "version": "3.7.6"
  }
 },
 "nbformat": 4,
 "nbformat_minor": 5
}
